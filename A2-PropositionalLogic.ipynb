{
 "cells": [
  {
   "cell_type": "markdown",
   "metadata": {},
   "source": [
    "## Assignment 2 - Propositional Logic"
   ]
  },
  {
   "cell_type": "markdown",
   "metadata": {},
   "source": [
    "### 1: Convert the following into logic notation using Python with SymPy. Use both standard notation and using function calls such as Or, And, Implies format as well.\n",
    "1. y or (x and y)\n",
    "2. a implies b\n",
    "3. (m or n) and (r or s)"
   ]
  },
  {
   "cell_type": "code",
   "execution_count": 2,
   "metadata": {},
   "outputs": [],
   "source": [
    "from sympy import symbols, Not, Or, And, Implies"
   ]
  },
  {
   "cell_type": "code",
   "execution_count": 3,
   "metadata": {},
   "outputs": [],
   "source": [
    "# 1a. y or (not x and y) standard\n",
    "\n",
    "question_1a = y | (Not(x) & y)"
   ]
  },
  {
   "cell_type": "code",
   "execution_count": 4,
   "metadata": {},
   "outputs": [],
   "source": [
    "# 1b. y or (not x and y) function calls\n",
    "question_1b = Or(y, And(Not(x), y))"
   ]
  },
  {
   "cell_type": "code",
   "execution_count": 5,
   "metadata": {},
   "outputs": [],
   "source": [
    "# 2a. a implies b standard\n",
    "question_2a = Implies(a, b)"
   ]
  },
  {
   "cell_type": "code",
   "execution_count": 6,
   "metadata": {},
   "outputs": [],
   "source": [
    "# 2b. a implies b function calls\n",
    "question_2a = Implies(a, b)"
   ]
  },
  {
   "cell_type": "code",
   "execution_count": 7,
   "metadata": {},
   "outputs": [],
   "source": [
    "# 3a. (m or not n) and (r or not s) standard\n",
    "question_3a = (m | Not(n)) & (r | Not(s))"
   ]
  },
  {
   "cell_type": "code",
   "execution_count": 8,
   "metadata": {},
   "outputs": [],
   "source": [
    "# 3b. (m or not n) and (r or not s) function calls\n",
    "question_3b = And(Or(m, Not(n)), Or(r, Not(s)))"
   ]
  },
  {
   "cell_type": "markdown",
   "metadata": {},
   "source": [
    "### 2: Now create the code for the following and substitute the given true or false values. You can use either format, but keep in mind some of them may require function calls format.\n",
    "1. y or x. y = False, x = True\n",
    "2. (a implies b) or m. a = False, b = True, m = True\n",
    "3. (m or n) and (a or (b and c)). m = True, n = False, a = False, b = True, c = False"
   ]
  },
  {
   "cell_type": "code",
   "execution_count": 9,
   "metadata": {},
   "outputs": [],
   "source": [
    "# 1. y | x\n",
    "question_1 = y | x"
   ]
  },
  {
   "cell_type": "code",
   "execution_count": 10,
   "metadata": {},
   "outputs": [],
   "source": [
    "# 2. (a implies b) or m. a = False, b = True, m = True\n",
    "\n",
    "\n",
    "# Substitute the given values a = False, b = True, and m = True into the expression\n",
    "question_2 = (a <= b) | m"
   ]
  },
  {
   "cell_type": "code",
   "execution_count": 11,
   "metadata": {},
   "outputs": [],
   "source": [
    "# 3. (m or n) and (a or (b and c)). m = True, n = False, a = False, b = True, c = False\n",
    "\n",
    "\n",
    "# Substitute the given values m = True, n = False, a = False, b = True, and c = False into the expression\n",
    "question_3 = (m | n) & (a | (b & c))"
   ]
  },
  {
   "cell_type": "markdown",
   "metadata": {},
   "source": [
    "### 3: Create the truth tables for:\n",
    "1. Conjunction\n",
    "2. Disjunction\n",
    "3. Implication\n",
    "4. Exclusive Disjunction\n",
    "5. Truth Table for (y and z) or (not w and not x)\n",
    "\n",
    "There are many ways to do this. You can do it without SymPy, or use SymPy's truth table import and you are free to get as complex as you want. Use x and y variables.\n"
   ]
  },
  {
   "cell_type": "code",
   "execution_count": null,
   "metadata": {},
   "outputs": [],
   "source": [
    "#  Conjunction Truth Table\n",
    "from sympy import symbols\n",
    "from sympy.logic.boolalg import And, Or, Implies, Not\n",
    "\n",
    "x, y = symbols('x y')\n",
    "\n",
    "conjunction = And(x, y)\n",
    "\n",
    "def truth_table(expr, variables):\n",
    "    table = []\n",
    "    values = [True, False]\n",
    "    num_variables = len(variables)\n",
    "    for i in range(2 ** num_variables):\n",
    "        assignment = {}\n",
    "        for j in range(num_variables):\n",
    "            assignment[variables[j]] = bool((i >> (num_variables - 1 - j)) & 1)\n",
    "        result = expr.subs(assignment)\n",
    "        table.append([assignment[var] for var in variables] + [result])\n",
    "    return table\n",
    "\n",
    "conjunction_truth_table = truth_table(conjunction, (x, y))"
   ]
  },
  {
   "cell_type": "code",
   "execution_count": null,
   "metadata": {},
   "outputs": [],
   "source": [
    "#  Disjunction Truth Table\n",
    "from sympy import symbols\n",
    "from sympy.logic.boolalg import And, Or, Implies, Not\n",
    "\n",
    "x, y = symbols('x y')\n",
    "\n",
    "disjunction = Or(x, y)\n",
    "\n",
    "def truth_table(expr, variables):\n",
    "    table = []\n",
    "    values = [True, False]\n",
    "    num_variables = len(variables)\n",
    "    for i in range(2 ** num_variables):\n",
    "        assignment = {}\n",
    "        for j in range(num_variables):\n",
    "            assignment[variables[j]] = bool((i >> (num_variables - 1 - j)) & 1)\n",
    "        result = expr.subs(assignment)\n",
    "        table.append([assignment[var] for var in variables] + [result])\n",
    "    return table\n",
    "\n",
    "disjunction_truth_table = truth_table(disjunction, (x, y))"
   ]
  },
  {
   "cell_type": "code",
   "execution_count": null,
   "metadata": {},
   "outputs": [],
   "source": [
    "#  Implication Truth Table\n",
    "from sympy import symbols\n",
    "from sympy.logic.boolalg import And, Or, Implies, Not\n",
    "\n",
    "x, y = symbols('x y')\n",
    "\n",
    "implication = Implies(x, y)\n",
    "\n",
    "def truth_table(expr, variables):\n",
    "    table = []\n",
    "    values = [True, False]\n",
    "    num_variables = len(variables)\n",
    "    for i in range(2 ** num_variables):\n",
    "        assignment = {}\n",
    "        for j in range(num_variables):\n",
    "            assignment[variables[j]] = bool((i >> (num_variables - 1 - j)) & 1)\n",
    "        result = expr.subs(assignment)\n",
    "        table.append([assignment[var] for var in variables] + [result])\n",
    "    return table\n",
    "\n",
    "implication_truth_table = truth_table(implication, (x, y))"
   ]
  },
  {
   "cell_type": "code",
   "execution_count": null,
   "metadata": {},
   "outputs": [],
   "source": [
    "# Exclusive Disjunction Truth Table\n",
    "from sympy import symbols\n",
    "from sympy.logic.boolalg import And, Or, Implies, Not\n",
    "\n",
    "x, y = symbols('x y')\n",
    "\n",
    "exclusive_disjunction = Or(And(x, Not(y)), And(Not(x), y))\n",
    "\n",
    "def truth_table(expr, variables):\n",
    "    table = []\n",
    "    values = [True, False]\n",
    "    num_variables = len(variables)\n",
    "    for i in range(2 ** num_variables):\n",
    "        assignment = {}\n",
    "        for j in range(num_variables):\n",
    "            assignment[variables[j]] = bool((i >> (num_variables - 1 - j)) & 1)\n",
    "        result = expr.subs(assignment)\n",
    "        table.append([assignment[var] for var in variables] + [result])\n",
    "    return table\n",
    "\n",
    "exclusive_disjunction_truth_table = truth_table(exclusive_disjunction, (x, y))"
   ]
  },
  {
   "cell_type": "code",
   "execution_count": null,
   "metadata": {},
   "outputs": [],
   "source": [
    "# Truth Table for (y and z) or (not w and not x)\n",
    "from sympy import symbols\n",
    "from sympy.logic.boolalg import And, Or, Implies, Not\n",
    "\n",
    "x, y, z, w = symbols('x y z w')\n",
    "\n",
    "y_and_z = Or(And(y, z), And(Not(w), Not(x)))\n",
    "\n",
    "def truth_table(expr, variables):\n",
    "    table = []\n",
    "    values = [True, False]\n",
    "    num_variables = len(variables)\n",
    "    for i in range(2 ** num_variables):\n",
    "        assignment = {}\n",
    "        for j in range(num_variables):\n",
    "            assignment[variables[j]] = bool((i >> (num_variables - 1 - j)) & 1)\n",
    "        result = expr.subs(assignment)\n",
    "        table.append([assignment[var] for var in variables] + [result])\n",
    "    return table\n",
    "\n",
    "expression_truth_table = truth_table(y_and_z, (x, y, z, w))"
   ]
  },
  {
   "cell_type": "markdown",
   "metadata": {},
   "source": [
    "### 4: Let p and q be the propositions as seen below:    \n",
    "p: You drive over 65 miles per hour.    \n",
    "q: You get a speeding ticket.     \n",
    "Write these propositions using p and q and logical connectives (including negations)\n",
    "1. You do not drive over 65 miles per hour.\n",
    "2. You will get a speeding ticket if you drive over 65 miles per hour.\n",
    "3. If you do not drive over 65 miles per hour, then you will not get a speeding ticket.\n",
    "4. You get a speeding ticket, but you do not drive over 65 miles per hour."
   ]
  },
  {
   "cell_type": "code",
   "execution_count": null,
   "metadata": {},
   "outputs": [],
   "source": [
    "# 1 You do not drive over 65 miles per hour.\n",
    "\n",
    "\n",
    "¬p"
   ]
  },
  {
   "cell_type": "code",
   "execution_count": null,
   "metadata": {},
   "outputs": [],
   "source": [
    "# 2 You will get a speeding ticket if you drive over 65 miles per hour.\n",
    "\n",
    "p → q"
   ]
  },
  {
   "cell_type": "code",
   "execution_count": null,
   "metadata": {},
   "outputs": [],
   "source": [
    "# 3 If you do not drive over 65 miles per hour, then you will not get a speeding ticket.\n",
    "¬p → ¬q"
   ]
  },
  {
   "cell_type": "code",
   "execution_count": null,
   "metadata": {},
   "outputs": [],
   "source": [
    "# 4 You get a speeding ticket, but you do not drive over 65 miles per hour.\n",
    "q ∧ ¬p"
   ]
  }
 ],
 "metadata": {
  "kernelspec": {
   "display_name": ".venv",
   "language": "python",
   "name": "python3"
  },
  "language_info": {
   "codemirror_mode": {
    "name": "ipython",
    "version": 3
   },
   "file_extension": ".py",
   "mimetype": "text/x-python",
   "name": "python",
   "nbconvert_exporter": "python",
   "pygments_lexer": "ipython3",
   "version": "3.11.1"
  },
  "orig_nbformat": 4
 },
 "nbformat": 4,
 "nbformat_minor": 2
}
