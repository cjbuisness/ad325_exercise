{
 "cells": [
  {
   "cell_type": "markdown",
   "metadata": {},
   "source": [
    "## Assignment 5 - Quantifiers"
   ]
  },
  {
   "cell_type": "markdown",
   "metadata": {},
   "source": [
    "### 1 Universal and Existential Quantifiers"
   ]
  },
  {
   "cell_type": "markdown",
   "metadata": {},
   "source": [
    "Demonstrate Universal Quantifiers and Existential Quantifiers using Python code. Create functions:    \n",
    "1. Predicate 1: tests if a number is even\n",
    "2. Predicate 2: tests if a number is positive\n",
    "3. Predicate 3: tests if a number is negative\n",
    "\n",
    "Create two domains: \n",
    "1. Domain 1: list of numbers from 1 to 11 exclusive\n",
    "2. Domain 2: list of the numbers 2, 4, 6, 8\n",
    "\n",
    "Test the following quanifiers:\n",
    "1. Test if all the integers in domain 1 are even\n",
    "2. Test if all the integers in domain 2 are even\n",
    "3. Test if any the integers in domain 1 are positive\n",
    "4. Test if any of the integers in domain 1 are negative\n",
    "\n",
    "When printing your results, be clear what Predicate is being used as well as what is being tested. Print out True or False after that. Output code is given for you to use."
   ]
  },
  {
   "cell_type": "code",
   "execution_count": 5,
   "metadata": {},
   "outputs": [
    {
     "name": "stdout",
     "output_type": "stream",
     "text": [
      "Quantifier: (∃x ∃y): There exists an even x and a positive y such that x + y = 10\n",
      "Result: True\n"
     ]
    }
   ],
   "source": [
    "# Defines a function to check if a number is even\n",
    "def is_even(x):\n",
    "    return x % 2 == 0\n",
    "\n",
    "# Defines a function to check if a number is positive\n",
    "def is_positive(y):\n",
    "    return y > 0\n",
    "\n",
    "# Defines a function to demonstrate nested quantifiers\n",
    "def demonstrate_nested_quantifiers():\n",
    "    # Checks if there exists a pair (x, y), such that x is even, y is positive, and their sum is equal to 10\n",
    "    exists_pair = any(is_even(x) and is_positive(y) and x + y == 10 for x in range(1, 11) for y in range(1, 11))\n",
    "\n",
    "    print(f\"Quantifier: (∃x ∃y): There exists an even x and a positive y such that x + y = 10\")\n",
    "\n",
    "    print(f\"Result: {exists_pair}\")\n",
    "\n",
    "demonstrate_nested_quantifiers()\n"
   ]
  },
  {
   "cell_type": "markdown",
   "metadata": {},
   "source": [
    "### 2 Uniqueness Quantifier"
   ]
  },
  {
   "cell_type": "markdown",
   "metadata": {},
   "source": [
    "Create a function to test if a number is a prime. Now create a domain with integers from 1 to 10 inclusive. Now determine if there is a unique prime number in the set of integers between 1 to 10. Print out the Predicate and the Uniqueness being checked for along with the True or False."
   ]
  },
  {
   "cell_type": "code",
   "execution_count": 6,
   "metadata": {},
   "outputs": [
    {
     "name": "stdout",
     "output_type": "stream",
     "text": [
      "Predicate: There exists a unique prime number in the set of integers from 1 to 10.\n",
      "Unique prime in set: True\n"
     ]
    }
   ],
   "source": [
    "from collections import Counter\n",
    "\n",
    "def is_prime(x):\n",
    "    # A number is prime if it is greater than 1 and has no divisors other than 1 and itself\n",
    "    return x > 1 and all(x % i != 0 for i in range(2, int(x**0.5) + 1))\n",
    "\n",
    "def demonstrate_uniqueness_quantifier():\n",
    "    # domain of set is 1 to 10\n",
    "    domain = range(1, 11)\n",
    "    \n",
    "    # Applies the is_prime function to each number in the domain using filter\n",
    "    # Tracks the occurrences of each number using Counter\n",
    "    prime_count = Counter(filter(is_prime, domain))\n",
    "\n",
    "    # Checks if there is one unique prime number in the domain\n",
    "    is_unique = prime_count.most_common(1)[0][1] == 1\n",
    "\n",
    "    print(\"Predicate: There exists a unique prime number in the set of integers from 1 to 10.\")\n",
    "    print(\"Unique prime in set:\", is_unique)\n",
    "\n",
    "demonstrate_uniqueness_quantifier()\n"
   ]
  },
  {
   "cell_type": "markdown",
   "metadata": {},
   "source": [
    "### 3 Nested Quantifiers"
   ]
  },
  {
   "cell_type": "markdown",
   "metadata": {},
   "source": [
    "Demonstrate nested quantifiers. Create functions:\n",
    "1. Predicate 1: tests if a number is true\n",
    "2. Predicate 2: tests if a number is positive\n",
    "\n",
    "Create two domains:    \n",
    "x: integers 1 to 10 inclusive    \n",
    "y: integers 1 to 10 inclusive   \n",
    "\n",
    "Demonstrate that \"(∃x ∃y): There exists an even x and a positive y such that x + y = 10\"    \n",
    "Be sure to print the Predicates and quantifier being tested along with the True or False values.\n"
   ]
  },
  {
   "cell_type": "code",
   "execution_count": 7,
   "metadata": {},
   "outputs": [
    {
     "name": "stdout",
     "output_type": "stream",
     "text": [
      "Universal Quantifier (∀x): For all x in domain 1, x is even\n",
      "Result: False\n",
      "\n",
      "Universal Quantifier (∀x): For all x in domain 2, x is even\n",
      "Result: True\n",
      "\n",
      "Existential Quantifier (∃x): There exists an x in domain 1 such that x is positive\n",
      "Result: True\n",
      "\n",
      "Existential Quantifier (∃x): There exists an x in domain 1 such that x is negative\n",
      "Result: False\n"
     ]
    }
   ],
   "source": [
    "# Defines a function to check if a number is even\n",
    "def is_even(x):\n",
    "    return x % 2 == 0\n",
    "\n",
    "# Defines a function to check if a number is positive\n",
    "def is_positive(x):\n",
    "    return x > 0\n",
    "\n",
    "# Defines a function to check if a number is negative\n",
    "def is_negative(x):\n",
    "    return x < 0\n",
    "\n",
    "# Defines a function to demonstrate quantifiers\n",
    "def demonstrate_quantifiers():\n",
    "    # Defines two domains of numbers, 1-10, and 2/4/6/7\n",
    "    domain_1 = list(range(1, 11))\n",
    "    domain_2 = [2, 4, 6, 8]\n",
    "\n",
    "    print(f\"Universal Quantifier (∀x): For all x in domain 1, x is even\\nResult: {all(is_even(x) for x in domain_1)}\")\n",
    "\n",
    "    print(f\"\\nUniversal Quantifier (∀x): For all x in domain 2, x is even\\nResult: {all(is_even(x) for x in domain_2)}\")\n",
    "\n",
    "    print(f\"\\nExistential Quantifier (∃x): There exists an x in domain 1 such that x is positive\\nResult: {any(is_positive(x) for x in domain_1)}\")\n",
    "\n",
    "    print(f\"\\nExistential Quantifier (∃x): There exists an x in domain 1 such that x is negative\\nResult: {any(is_negative(x) for x in domain_1)}\")\n",
    "\n",
    "demonstrate_quantifiers()\n"
   ]
  },
  {
   "cell_type": "code",
   "execution_count": null,
   "metadata": {},
   "outputs": [],
   "source": []
  }
 ],
 "metadata": {
  "kernelspec": {
   "display_name": ".venv",
   "language": "python",
   "name": "python3"
  },
  "language_info": {
   "codemirror_mode": {
    "name": "ipython",
    "version": 3
   },
   "file_extension": ".py",
   "mimetype": "text/x-python",
   "name": "python",
   "nbconvert_exporter": "python",
   "pygments_lexer": "ipython3",
   "version": "3.11.1"
  },
  "orig_nbformat": 4
 },
 "nbformat": 4,
 "nbformat_minor": 2
}
